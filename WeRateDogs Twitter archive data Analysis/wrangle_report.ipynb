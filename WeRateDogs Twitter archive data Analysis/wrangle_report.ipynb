{
 "cells": [
  {
   "cell_type": "markdown",
   "metadata": {},
   "source": [
    "## Reporting: wragle_report\n",
    "* Create a **300-600 word written report** called \"wrangle_report.pdf\" or \"wrangle_report.html\" that briefly describes your wrangling efforts. This is to be framed as an internal document."
   ]
  },
  {
   "cell_type": "markdown",
   "metadata": {},
   "source": [
    "   My wrangling effort consisted of three main phases which are gathering,assessing and cleaning data which under this three main phases i was able to gather,assess both visually and programatically to spot a few tidiness and quality issues which later on were dealt with in the cleaning phase.\n",
    "\n",
    "   In the gathering phase, the first dataset('twitter_archive_enhanced.csv') i downloaded using the requests library same as the second dataset('image_predictions.tsv') while the third i used Tweepy to query Twitter's API having registering for twitters developers account which i was granted access to do so saving the third dataset in Json format('tweet_json.txt') which i had to read in line by line into a dataframe.\n",
    "            \n",
    "           \n",
    "   The second phase had me both visually using jupyter labs and programatically assess the data which using both methods i was able to put out at least 10 issues with the data sets both quality and tidiness isuess which i would list below:\n",
    "\n",
    "#### Quality issues\n",
    "1.the denominator should only be equal to 10 \n",
    "\n",
    "2.Not all tweets are dog tweets and some are retweets \n",
    "\n",
    "3.Not all tweets are dog tweets some are replies\n",
    "\n",
    "4.timestamp is in string format\n",
    "\n",
    "5.id column name is different in api_tweets dataframe\n",
    "\n",
    "6.dropping \"img_num\" column from 'image_pred' dataframe as it has no purpose\n",
    "\n",
    "7.dropping deleted tweets from twitter_archive dataframe using ids from deleted_ids\n",
    "\n",
    "8.dropping invalid names in 'name' column and replacing 'None' with Nan values\n",
    "\n",
    "#### Tidiness issues\n",
    "1.doggo,floofer,pupper,puppo should be under one column name 'dog_stage'\n",
    "\n",
    "2.the three dataframes should be merged into one dataframe for better analysis\n",
    "\n",
    "\n",
    "   The third phase has me cleaning up all the above issues which i listed out from renaming columns to changing data types to dropping columns and rows to finally merging all the three datasets into one and saving it ''twitter_archive_master.csv'',which further visualisations were carried on it.\n",
    "\n"
   ]
  }
 ],
 "metadata": {
  "kernelspec": {
   "display_name": "Python 3 (ipykernel)",
   "language": "python",
   "name": "python3"
  },
  "language_info": {
   "codemirror_mode": {
    "name": "ipython",
    "version": 3
   },
   "file_extension": ".py",
   "mimetype": "text/x-python",
   "name": "python",
   "nbconvert_exporter": "python",
   "pygments_lexer": "ipython3",
   "version": "3.9.12"
  }
 },
 "nbformat": 4,
 "nbformat_minor": 4
}
